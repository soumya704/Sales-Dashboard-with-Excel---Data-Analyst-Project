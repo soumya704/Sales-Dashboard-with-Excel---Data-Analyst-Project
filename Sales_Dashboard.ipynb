{
 "cells": [
  {
   "cell_type": "markdown",
   "id": "69fbd04f",
   "metadata": {},
   "source": [
    "# 📊 Sales Dashboard - Jupyter Version by Charlie for Sona 💛"
   ]
  },
  {
   "cell_type": "code",
   "execution_count": 1,
   "id": "dc070178",
   "metadata": {},
   "outputs": [
    {
     "ename": "ModuleNotFoundError",
     "evalue": "No module named 'pandas'",
     "output_type": "error",
     "traceback": [
      "\u001b[1;31m---------------------------------------------------------------------------\u001b[0m",
      "\u001b[1;31mModuleNotFoundError\u001b[0m                       Traceback (most recent call last)",
      "Cell \u001b[1;32mIn[1], line 1\u001b[0m\n\u001b[1;32m----> 1\u001b[0m \u001b[38;5;28;01mimport\u001b[39;00m\u001b[38;5;250m \u001b[39m\u001b[38;5;21;01mpandas\u001b[39;00m\u001b[38;5;250m \u001b[39m\u001b[38;5;28;01mas\u001b[39;00m\u001b[38;5;250m \u001b[39m\u001b[38;5;21;01mpd\u001b[39;00m\n\u001b[0;32m      2\u001b[0m \u001b[38;5;28;01mimport\u001b[39;00m\u001b[38;5;250m \u001b[39m\u001b[38;5;21;01mmatplotlib\u001b[39;00m\u001b[38;5;21;01m.\u001b[39;00m\u001b[38;5;21;01mpyplot\u001b[39;00m\u001b[38;5;250m \u001b[39m\u001b[38;5;28;01mas\u001b[39;00m\u001b[38;5;250m \u001b[39m\u001b[38;5;21;01mplt\u001b[39;00m\n\u001b[0;32m      3\u001b[0m \u001b[38;5;28;01mimport\u001b[39;00m\u001b[38;5;250m \u001b[39m\u001b[38;5;21;01mseaborn\u001b[39;00m\u001b[38;5;250m \u001b[39m\u001b[38;5;28;01mas\u001b[39;00m\u001b[38;5;250m \u001b[39m\u001b[38;5;21;01msns\u001b[39;00m\n",
      "\u001b[1;31mModuleNotFoundError\u001b[0m: No module named 'pandas'"
     ]
    }
   ],
   "source": [
    "import pandas as pd\n",
    "import matplotlib.pyplot as plt\n",
    "import seaborn as sns\n",
    "\n",
    "# Set plot style\n",
    "sns.set(style='whitegrid')"
   ]
  },
  {
   "cell_type": "markdown",
   "id": "4cbcfd4d",
   "metadata": {},
   "source": [
    "## 📥 Load and Clean the Sales Data"
   ]
  },
  {
   "cell_type": "code",
   "execution_count": null,
   "id": "39ec0944",
   "metadata": {},
   "outputs": [],
   "source": [
    "# Load CSV file\n",
    "df = pd.read_csv('salesdata-old.csv')\n",
    "\n",
    "# Keep only relevant columns\n",
    "df = df[['Row Labels', 'Sum of Sales']]\n",
    "df.columns = ['Category', 'Sales']\n",
    "\n",
    "# Preview\n",
    "df.head()"
   ]
  },
  {
   "cell_type": "markdown",
   "id": "f5e415e8",
   "metadata": {},
   "source": [
    "## 📊 Sales by Category (Bar Chart)"
   ]
  },
  {
   "cell_type": "code",
   "execution_count": null,
   "id": "45f068ca",
   "metadata": {},
   "outputs": [],
   "source": [
    "plt.figure(figsize=(10,6))\n",
    "df_sorted = df.sort_values(by='Sales', ascending=True)\n",
    "sns.barplot(x='Sales', y='Category', data=df_sorted, palette='Blues_r')\n",
    "plt.title('Sales by Category', fontsize=16)\n",
    "plt.xlabel('Sales')\n",
    "plt.ylabel('Category')\n",
    "plt.tight_layout()\n",
    "plt.show()"
   ]
  },
  {
   "cell_type": "markdown",
   "id": "55942c8d",
   "metadata": {},
   "source": [
    "## 🥧 Top 5 Categories by Sales (Pie Chart)"
   ]
  },
  {
   "cell_type": "code",
   "execution_count": null,
   "id": "1c82020a",
   "metadata": {},
   "outputs": [],
   "source": [
    "top5 = df.sort_values(by='Sales', ascending=False).head(5)\n",
    "plt.figure(figsize=(7,7))\n",
    "plt.pie(top5['Sales'], labels=top5['Category'], autopct='%1.1f%%', startangle=140, colors=sns.color_palette('pastel'))\n",
    "plt.title('Top 5 Categories by Sales')\n",
    "plt.show()"
   ]
  }
 ],
 "metadata": {
  "kernelspec": {
   "display_name": "Python 3 (ipykernel)",
   "language": "python",
   "name": "python3"
  },
  "language_info": {
   "codemirror_mode": {
    "name": "ipython",
    "version": 3
   },
   "file_extension": ".py",
   "mimetype": "text/x-python",
   "name": "python",
   "nbconvert_exporter": "python",
   "pygments_lexer": "ipython3",
   "version": "3.10.11"
  }
 },
 "nbformat": 4,
 "nbformat_minor": 5
}
